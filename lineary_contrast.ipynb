{
 "cells": [
  {
   "cell_type": "code",
   "execution_count": 1,
   "metadata": {},
   "outputs": [],
   "source": [
    "import numpy as np\n",
    "import pandas as pd\n",
    "from sklearn import linear_model\n"
   ]
  },
  {
   "cell_type": "code",
   "execution_count": 2,
   "metadata": {},
   "outputs": [],
   "source": [
    "filename = \"bike-sharing/hour.csv\"\n",
    "rides =pd.read_csv(filename)"
   ]
  },
  {
   "cell_type": "code",
   "execution_count": 7,
   "metadata": {},
   "outputs": [],
   "source": [
    "model_lr = linear_model.LinearRegression()\n",
    "fields_to_drop = ['instant', 'dteday']\n",
    "rides = rides.drop(fields_to_drop,axis=1)\n",
    "#将最后一个月的数据作为测试集\n",
    "test_data = rides[-30*24:] #选出训练集\n",
    "train_data = rides[:-30*24] #选出测试集\n",
    "\n",
    "#目标列包含的字段\n",
    "target_fields = ['cnt','casual', 'registered'] \n",
    "\n",
    "#训练集划分成特征变量列和目标特征列\n",
    "features, targets = train_data.drop(target_fields, axis=1), train_data[target_fields]\n",
    "\n",
    "#测试集划分成特征变量列和目标特征列\n",
    "test_features, test_targets = test_data.drop(target_fields, axis=1), test_data[target_fields]\n",
    "\n",
    "#将数据类型转换为NumPy数组\n",
    "X = features.values  #将数据从pandas dataframe转换为NumPy\n",
    "Y = targets['cnt'].values\n",
    "Y = Y.astype(float)\n",
    "\n",
    "Y = np.reshape(Y, [len(Y),1]) #把结果集转为一个个list"
   ]
  },
  {
   "cell_type": "code",
   "execution_count": 8,
   "metadata": {},
   "outputs": [
    {
     "data": {
      "text/plain": [
       "LinearRegression()"
      ]
     },
     "execution_count": 8,
     "metadata": {},
     "output_type": "execute_result"
    }
   ],
   "source": [
    "model_lr.fit(X,Y)"
   ]
  },
  {
   "cell_type": "code",
   "execution_count": 9,
   "metadata": {},
   "outputs": [],
   "source": [
    "from sklearn.metrics import mean_squared_error"
   ]
  },
  {
   "cell_type": "code",
   "execution_count": 11,
   "metadata": {},
   "outputs": [
    {
     "name": "stdout",
     "output_type": "stream",
     "text": [
      "均方误差: 20614.68001434143\n"
     ]
    },
    {
     "name": "stderr",
     "output_type": "stream",
     "text": [
      "c:\\Users\\gotobcn\\AppData\\Local\\Programs\\Python\\Python37\\lib\\site-packages\\sklearn\\base.py:444: UserWarning: X has feature names, but LinearRegression was fitted without feature names\n",
      "  f\"X has feature names, but {self.__class__.__name__} was fitted without\"\n"
     ]
    }
   ],
   "source": [
    "predictions = model_lr.predict(test_features)\n",
    "\n",
    "print('均方误差:',mean_squared_error(test_targets['cnt'],predictions))"
   ]
  },
  {
   "cell_type": "code",
   "execution_count": null,
   "metadata": {},
   "outputs": [],
   "source": []
  }
 ],
 "metadata": {
  "kernelspec": {
   "display_name": "Python 3.7.7 64-bit",
   "language": "python",
   "name": "python3"
  },
  "language_info": {
   "codemirror_mode": {
    "name": "ipython",
    "version": 3
   },
   "file_extension": ".py",
   "mimetype": "text/x-python",
   "name": "python",
   "nbconvert_exporter": "python",
   "pygments_lexer": "ipython3",
   "version": "3.7.7"
  },
  "orig_nbformat": 4,
  "vscode": {
   "interpreter": {
    "hash": "ee59edb592a6890c653392207632c88eceaced3d6ca2d3a1e1701ca8ead1f735"
   }
  }
 },
 "nbformat": 4,
 "nbformat_minor": 2
}
